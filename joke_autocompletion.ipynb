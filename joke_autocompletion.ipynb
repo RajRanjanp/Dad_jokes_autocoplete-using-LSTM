{
 "cells": [
  {
   "cell_type": "markdown",
   "metadata": {
    "id": "X3rmqiPTGFJi"
   },
   "source": [
    "## Import Necessary Libraries"
   ]
  },
  {
   "cell_type": "code",
   "execution_count": 112,
   "metadata": {
    "id": "giS4ThvE9rcB"
   },
   "outputs": [],
   "source": [
    "from keras.preprocessing.text import Tokenizer\n",
    "import numpy as np\n",
    "import re\n",
    "from keras.preprocessing.sequence import pad_sequences\n",
    "from keras.utils import to_categorical\n",
    "from keras.models import Sequential\n",
    "from keras.layers import Dense , Embedding ,LSTM\n",
    "import matplotlib.pyplot as plt\n",
    "import tensorflow as tf\n",
    "from tensorflow.keras.callbacks import EarlyStopping"
   ]
  },
  {
   "cell_type": "markdown",
   "metadata": {
    "id": "ECW0kpQWGMrU"
   },
   "source": [
    "## Open file as list\n"
   ]
  },
  {
   "cell_type": "code",
   "execution_count": 113,
   "metadata": {
    "id": "GCDRa9PDiu0o"
   },
   "outputs": [],
   "source": [
    "with open('jokes.txt' , 'r' , errors='ignore' ) as file:\n",
    "  a = file.readlines()\n",
    "data = [item.strip() for item in a]"
   ]
  },
  {
   "cell_type": "markdown",
   "metadata": {
    "id": "3glRMu7xP8PC"
   },
   "source": [
    "## Changing the capital letters to lowercase\n"
   ]
  },
  {
   "cell_type": "code",
   "execution_count": 114,
   "metadata": {
    "id": "dNhQqv_uogsA"
   },
   "outputs": [],
   "source": [
    "data_lower = []\n",
    "for dat in data:\n",
    "    data_lower.append(dat.lower())"
   ]
  },
  {
   "cell_type": "markdown",
   "metadata": {
    "id": "kMKZhYz_QZk0"
   },
   "source": [
    "## Contractions Dictionary\n"
   ]
  },
  {
   "cell_type": "code",
   "execution_count": 115,
   "metadata": {
    "id": "HuMno7o0tyKH"
   },
   "outputs": [],
   "source": [
    "contractions_dict = {\n",
    "    \"i’m\": \"i am\",\n",
    "    \"i’ve\": \"i have\",\n",
    "    \"i’ve\": \"i have\",\n",
    "    \"i’ll\": \"i will\",\n",
    "    \"i’d\" : \"i would\",\n",
    "    \"you’re\": \"you are\",\n",
    "    \"you’ve\": \"you have\",\n",
    "    \"you’ll\": \"you will\",\n",
    "    \"he’s\": \"he is\",\n",
    "    \"he’ll\": \"he will\",\n",
    "    \"she’s\": \"she is\",\n",
    "    \"she’ll\": \"she will\",\n",
    "    \"it’s\": \"it is\",\n",
    "    \"we’re\": \"we are\",\n",
    "    \"we’ve\": \"we have\",\n",
    "    \"we’ll\": \"we will\",\n",
    "    \"they’re\": \"they are\",\n",
    "    \"they’ve\": \"they have\",\n",
    "    \"they’ll\": \"they will\",\n",
    "    \"can’t\": \"cannot\",\n",
    "    \"can't\" :  \"cannot\",\n",
    "    \"won’t\": \"will not\",\n",
    "    \"isn’t\": \"is not\",\n",
    "    \"wouldn’t\": \"would not\",\n",
    "    \"what’s\" : \"what is\",\n",
    "    \"it'll\" : \"it will\",\n",
    "    \"there's\" : \"there is\",\n",
    "    \"didn't\" : \"did not\" , \n",
    "    \"don’t\" : \"do not\",\n",
    "    \"it’d\" : \"it would\",\n",
    "    \"they’d\" : \"they would\",\n",
    "    \"it's\" : \"it is\",\n",
    "    \"that’s\" : \"that is\"\n",
    "    \n",
    "}"
   ]
  },
  {
   "cell_type": "code",
   "execution_count": 139,
   "metadata": {
    "colab": {
     "base_uri": "https://localhost:8080/"
    },
    "id": "TpQdE7nUr2b1",
    "outputId": "74bf6e8f-5bca-40b9-fa52-ed0bc3e95a16"
   },
   "outputs": [
    {
     "data": {
      "text/plain": [
       "['did you hear about the fire at the shoe factory? unfortunately, many soles were lost.',\n",
       " 'what do you call a pig who knows how to use a knife? a pork chop.',\n",
       " 'what kind of fish knows how to do an appendectomy? a sturgeon.',\n",
       " 'how do you hire a horse? put up a ladder.',\n",
       " 'why did the pony ask for a glass of water? because it was a little horse.']"
      ]
     },
     "execution_count": 139,
     "metadata": {},
     "output_type": "execute_result"
    }
   ],
   "source": [
    "data_lower[:5]"
   ]
  },
  {
   "cell_type": "markdown",
   "metadata": {
    "id": "jOXxaHZVGqOO"
   },
   "source": [
    "## Tokenize the words and remove any punctuation marks and symbol"
   ]
  },
  {
   "cell_type": "code",
   "execution_count": 117,
   "metadata": {
    "id": "t5_I0hfTu1ls"
   },
   "outputs": [],
   "source": [
    "words = []\n",
    "data_purified = []\n",
    "for low in data_lower:\n",
    "    a = re.split('[,\\“\\”\\\"\\-!\\s.?\\n]+' ,low)\n",
    "    container = []\n",
    "    for any in a:\n",
    "        if any != '':\n",
    "            if any in contractions_dict:\n",
    "                any = contractions_dict[any]\n",
    "                val = any.split()\n",
    "                for i in val:\n",
    "                    words.append(i)\n",
    "                    container.append(i)\n",
    "            words.append(any)\n",
    "            container.append(any)\n",
    "    data_purified.append(' '.join(container))\n"
   ]
  },
  {
   "cell_type": "code",
   "execution_count": 140,
   "metadata": {
    "colab": {
     "base_uri": "https://localhost:8080/"
    },
    "id": "F4blN2euw1JM",
    "outputId": "749f75e9-44bd-41a7-e77f-e8b436095e03"
   },
   "outputs": [
    {
     "data": {
      "text/plain": [
       "['did you hear about the fire at the shoe factory unfortunately many soles were lost',\n",
       " 'what do you call a pig who knows how to use a knife a pork chop',\n",
       " 'what kind of fish knows how to do an appendectomy a sturgeon',\n",
       " 'how do you hire a horse put up a ladder',\n",
       " 'why did the pony ask for a glass of water because it was a little horse']"
      ]
     },
     "execution_count": 140,
     "metadata": {},
     "output_type": "execute_result"
    }
   ],
   "source": [
    "data_purified[:5]"
   ]
  },
  {
   "cell_type": "code",
   "execution_count": 119,
   "metadata": {
    "id": "hgkAbCnKjyNm"
   },
   "outputs": [],
   "source": [
    "tokenizer = Tokenizer()"
   ]
  },
  {
   "cell_type": "code",
   "execution_count": 120,
   "metadata": {
    "id": "eBopkYEAnG5g"
   },
   "outputs": [],
   "source": [
    "tokenizer.fit_on_texts(words)"
   ]
  },
  {
   "cell_type": "code",
   "execution_count": 121,
   "metadata": {
    "id": "MZ_4lwBPnM2U"
   },
   "outputs": [],
   "source": [
    "x_seq = []\n",
    "for tex in data_purified:\n",
    "    encoded_tex= tokenizer.texts_to_sequences([tex])[0]\n",
    "    for i in range(1,len(encoded_tex)):\n",
    "      x_seq.append(encoded_tex[:i+1])"
   ]
  },
  {
   "cell_type": "code",
   "execution_count": 122,
   "metadata": {
    "id": "Atr0faDf7oCy"
   },
   "outputs": [],
   "source": [
    "max_length = max([len(x) for x in x_seq])"
   ]
  },
  {
   "cell_type": "code",
   "execution_count": 123,
   "metadata": {
    "id": "C678tvEpnTRl"
   },
   "outputs": [],
   "source": [
    "padded_x_seq = pad_sequences(x_seq , maxlen=max_length , padding='pre')"
   ]
  },
  {
   "cell_type": "code",
   "execution_count": 124,
   "metadata": {
    "colab": {
     "base_uri": "https://localhost:8080/"
    },
    "id": "W45Gb8GtBxl_",
    "outputId": "47db5055-fa67-4e5d-9a90-6952946ede5e"
   },
   "outputs": [
    {
     "data": {
      "text/plain": [
       "array([[  0,   0,   0, ...,   0,  11,   7],\n",
       "       [  0,   0,   0, ...,  11,   7,  40],\n",
       "       [  0,   0,   0, ...,   7,  40,  30],\n",
       "       ...,\n",
       "       [  0,   0,   0, ..., 121,   3,  19],\n",
       "       [  0,   0,   0, ...,   3,  19, 360],\n",
       "       [  0,   0,   0, ...,  19, 360, 170]])"
      ]
     },
     "execution_count": 124,
     "metadata": {},
     "output_type": "execute_result"
    }
   ],
   "source": [
    "padded_x_seq"
   ]
  },
  {
   "cell_type": "code",
   "execution_count": 125,
   "metadata": {
    "id": "Le6GlqQtnUom"
   },
   "outputs": [],
   "source": [
    "X_train = padded_x_seq[: , :-1]"
   ]
  },
  {
   "cell_type": "code",
   "execution_count": 126,
   "metadata": {
    "id": "k9Esz79eqSYV"
   },
   "outputs": [],
   "source": [
    "y_ = padded_x_seq[: , -1]"
   ]
  },
  {
   "cell_type": "markdown",
   "metadata": {
    "id": "EfNIS5SUFbtl"
   },
   "source": [
    "## Total Number of Unique words\n"
   ]
  },
  {
   "cell_type": "code",
   "execution_count": 127,
   "metadata": {
    "id": "mepoqe_dDDEI"
   },
   "outputs": [],
   "source": [
    "length = len(tokenizer.word_index)"
   ]
  },
  {
   "cell_type": "markdown",
   "metadata": {
    "id": "gkcGzK1DFm11"
   },
   "source": [
    "##  Encoding words"
   ]
  },
  {
   "cell_type": "code",
   "execution_count": 128,
   "metadata": {
    "id": "M65EHeaguVmj"
   },
   "outputs": [],
   "source": [
    "y_train = to_categorical(y_ , num_classes=(length+1))"
   ]
  },
  {
   "cell_type": "markdown",
   "metadata": {
    "id": "_RgemOlSFt_f"
   },
   "source": [
    "## Building the model"
   ]
  },
  {
   "cell_type": "code",
   "execution_count": 129,
   "metadata": {
    "id": "Enc-9Hh8ujjy"
   },
   "outputs": [],
   "source": [
    "model =Sequential()\n",
    "model.add(Embedding((length+1) , 100 , input_length =(max_length-1)))\n",
    "model.add(LSTM(130))\n",
    "model.add(Dense((length+1) , activation = 'softmax'))"
   ]
  },
  {
   "cell_type": "code",
   "execution_count": 130,
   "metadata": {
    "id": "zakutpk_ukbC"
   },
   "outputs": [],
   "source": [
    "model.compile(loss = 'categorical_crossentropy' , optimizer='adam' , metrics=['accuracy'])"
   ]
  },
  {
   "cell_type": "code",
   "execution_count": 131,
   "metadata": {
    "colab": {
     "base_uri": "https://localhost:8080/"
    },
    "id": "87nHa8F7ve_T",
    "outputId": "3d7ccfe7-0eb2-4f4b-aacd-aa0679b8888b"
   },
   "outputs": [
    {
     "name": "stdout",
     "output_type": "stream",
     "text": [
      "Model: \"sequential_2\"\n",
      "_________________________________________________________________\n",
      " Layer (type)                Output Shape              Param #   \n",
      "=================================================================\n",
      " embedding_2 (Embedding)     (None, 55, 100)           214600    \n",
      "                                                                 \n",
      " lstm_2 (LSTM)               (None, 130)               120120    \n",
      "                                                                 \n",
      " dense_2 (Dense)             (None, 2146)              281126    \n",
      "                                                                 \n",
      "=================================================================\n",
      "Total params: 615846 (2.35 MB)\n",
      "Trainable params: 615846 (2.35 MB)\n",
      "Non-trainable params: 0 (0.00 Byte)\n",
      "_________________________________________________________________\n"
     ]
    }
   ],
   "source": [
    "model.summary()"
   ]
  },
  {
   "cell_type": "code",
   "execution_count": null,
   "metadata": {},
   "outputs": [],
   "source": []
  },
  {
   "cell_type": "markdown",
   "metadata": {
    "id": "yqwzU6V3Fyk9"
   },
   "source": [
    "## Training the model"
   ]
  },
  {
   "cell_type": "code",
   "execution_count": 132,
   "metadata": {
    "colab": {
     "base_uri": "https://localhost:8080/"
    },
    "id": "-E-XiPWNFT1B",
    "outputId": "317e2de5-91f4-40e8-ec43-f572f6c36861",
    "scrolled": false
   },
   "outputs": [
    {
     "name": "stdout",
     "output_type": "stream",
     "text": [
      "Epoch 1/50\n",
      "267/267 [==============================] - 10s 32ms/step - loss: 6.5329 - accuracy: 0.0421\n",
      "Epoch 2/50\n",
      "267/267 [==============================] - 9s 33ms/step - loss: 6.0176 - accuracy: 0.0488\n",
      "Epoch 3/50\n",
      "267/267 [==============================] - 9s 33ms/step - loss: 5.7965 - accuracy: 0.0771\n",
      "Epoch 4/50\n",
      "267/267 [==============================] - 9s 33ms/step - loss: 5.5107 - accuracy: 0.1075\n",
      "Epoch 5/50\n",
      "267/267 [==============================] - 9s 33ms/step - loss: 5.1972 - accuracy: 0.1437\n",
      "Epoch 6/50\n",
      "267/267 [==============================] - 9s 33ms/step - loss: 4.9029 - accuracy: 0.1676\n",
      "Epoch 7/50\n",
      "267/267 [==============================] - 9s 35ms/step - loss: 4.6280 - accuracy: 0.1892\n",
      "Epoch 8/50\n",
      "267/267 [==============================] - 9s 34ms/step - loss: 4.3722 - accuracy: 0.2131\n",
      "Epoch 9/50\n",
      "267/267 [==============================] - 9s 33ms/step - loss: 4.1337 - accuracy: 0.2360\n",
      "Epoch 10/50\n",
      "267/267 [==============================] - 9s 33ms/step - loss: 3.9015 - accuracy: 0.2603\n",
      "Epoch 11/50\n",
      "267/267 [==============================] - 9s 34ms/step - loss: 3.6795 - accuracy: 0.2803\n",
      "Epoch 12/50\n",
      "267/267 [==============================] - 9s 33ms/step - loss: 3.4653 - accuracy: 0.3061\n",
      "Epoch 13/50\n",
      "267/267 [==============================] - 9s 33ms/step - loss: 3.2578 - accuracy: 0.3390\n",
      "Epoch 14/50\n",
      "267/267 [==============================] - 9s 33ms/step - loss: 3.0576 - accuracy: 0.3649\n",
      "Epoch 15/50\n",
      "267/267 [==============================] - 9s 33ms/step - loss: 2.8629 - accuracy: 0.4012\n",
      "Epoch 16/50\n",
      "267/267 [==============================] - 9s 33ms/step - loss: 2.6768 - accuracy: 0.4354\n",
      "Epoch 17/50\n",
      "267/267 [==============================] - 9s 33ms/step - loss: 2.4941 - accuracy: 0.4760\n",
      "Epoch 18/50\n",
      "267/267 [==============================] - 9s 33ms/step - loss: 2.3238 - accuracy: 0.5140\n",
      "Epoch 19/50\n",
      "267/267 [==============================] - 9s 33ms/step - loss: 2.1593 - accuracy: 0.5529\n",
      "Epoch 20/50\n",
      "267/267 [==============================] - 9s 33ms/step - loss: 2.0036 - accuracy: 0.5903\n",
      "Epoch 21/50\n",
      "267/267 [==============================] - 9s 32ms/step - loss: 1.8636 - accuracy: 0.6208\n",
      "Epoch 22/50\n",
      "267/267 [==============================] - 9s 32ms/step - loss: 1.7272 - accuracy: 0.6464\n",
      "Epoch 23/50\n",
      "267/267 [==============================] - 9s 32ms/step - loss: 1.6084 - accuracy: 0.6729\n",
      "Epoch 24/50\n",
      "267/267 [==============================] - 9s 32ms/step - loss: 1.4972 - accuracy: 0.6993\n",
      "Epoch 25/50\n",
      "267/267 [==============================] - 9s 33ms/step - loss: 1.3911 - accuracy: 0.7256\n",
      "Epoch 26/50\n",
      "267/267 [==============================] - 9s 33ms/step - loss: 1.2976 - accuracy: 0.7467\n",
      "Epoch 27/50\n",
      "267/267 [==============================] - 9s 33ms/step - loss: 1.2121 - accuracy: 0.7612\n",
      "Epoch 28/50\n",
      "267/267 [==============================] - 9s 33ms/step - loss: 1.1307 - accuracy: 0.7771\n",
      "Epoch 29/50\n",
      "267/267 [==============================] - 9s 34ms/step - loss: 1.0572 - accuracy: 0.7896\n",
      "Epoch 30/50\n",
      "267/267 [==============================] - 9s 35ms/step - loss: 0.9910 - accuracy: 0.8055\n",
      "Epoch 31/50\n",
      "267/267 [==============================] - 9s 35ms/step - loss: 0.9296 - accuracy: 0.8162\n",
      "Epoch 32/50\n",
      "267/267 [==============================] - 9s 35ms/step - loss: 0.8739 - accuracy: 0.8291\n",
      "Epoch 33/50\n",
      "267/267 [==============================] - 9s 35ms/step - loss: 0.8186 - accuracy: 0.8399\n",
      "Epoch 34/50\n",
      "267/267 [==============================] - 9s 35ms/step - loss: 0.7730 - accuracy: 0.8475\n",
      "Epoch 35/50\n",
      "267/267 [==============================] - 9s 35ms/step - loss: 0.7275 - accuracy: 0.8581\n",
      "Epoch 36/50\n",
      "267/267 [==============================] - 9s 34ms/step - loss: 0.6872 - accuracy: 0.8653\n",
      "Epoch 37/50\n",
      "267/267 [==============================] - 10s 36ms/step - loss: 0.6500 - accuracy: 0.8726\n",
      "Epoch 38/50\n",
      "267/267 [==============================] - 9s 34ms/step - loss: 0.6153 - accuracy: 0.8787\n",
      "Epoch 39/50\n",
      "267/267 [==============================] - 9s 35ms/step - loss: 0.5849 - accuracy: 0.8804\n",
      "Epoch 40/50\n",
      "267/267 [==============================] - 9s 35ms/step - loss: 0.5561 - accuracy: 0.8850\n",
      "Epoch 41/50\n",
      "267/267 [==============================] - 9s 35ms/step - loss: 0.5294 - accuracy: 0.8909\n",
      "Epoch 42/50\n",
      "267/267 [==============================] - 9s 35ms/step - loss: 0.5074 - accuracy: 0.8918\n",
      "Epoch 43/50\n",
      "267/267 [==============================] - 9s 35ms/step - loss: 0.4839 - accuracy: 0.8979\n",
      "Epoch 44/50\n",
      "267/267 [==============================] - 9s 35ms/step - loss: 0.4654 - accuracy: 0.8974\n",
      "Epoch 45/50\n",
      "267/267 [==============================] - 9s 35ms/step - loss: 0.4478 - accuracy: 0.9025\n",
      "Epoch 46/50\n",
      "267/267 [==============================] - 9s 35ms/step - loss: 0.4291 - accuracy: 0.9048\n",
      "Epoch 47/50\n",
      "267/267 [==============================] - 9s 35ms/step - loss: 0.4143 - accuracy: 0.9045\n",
      "Epoch 48/50\n",
      "267/267 [==============================] - 9s 35ms/step - loss: 0.4006 - accuracy: 0.9091\n",
      "Epoch 49/50\n",
      "267/267 [==============================] - 10s 36ms/step - loss: 0.3867 - accuracy: 0.9076\n",
      "Epoch 50/50\n",
      "267/267 [==============================] - 10s 36ms/step - loss: 0.3772 - accuracy: 0.9117\n"
     ]
    }
   ],
   "source": [
    "history =model.fit(X_train , y_train, epochs= 50)"
   ]
  },
  {
   "cell_type": "code",
   "execution_count": 133,
   "metadata": {
    "colab": {
     "base_uri": "https://localhost:8080/",
     "height": 467
    },
    "id": "T14a3bXIG9Rc",
    "outputId": "863a6a70-3d07-4be4-9462-6eac64edc7c3"
   },
   "outputs": [
    {
     "data": {
      "text/plain": [
       "Text(0, 0.5, 'Value')"
      ]
     },
     "execution_count": 133,
     "metadata": {},
     "output_type": "execute_result"
    },
    {
     "data": {
      "image/png": "[encoded data removed]",
      "text/plain": [
       "<Figure size 640x480 with 1 Axes>"
      ]
     },
     "metadata": {},
     "output_type": "display_data"
    }
   ],
   "source": [
    "plt.plot(history.history['loss'] ,label='Loss' )\n",
    "plt.plot(history.history['accuracy'] , label='Accuracy')\n",
    "plt.xlabel('Epochs')\n",
    "plt.ylabel('Value')"
   ]
  },
  {
   "cell_type": "code",
   "execution_count": 138,
   "metadata": {
    "colab": {
     "base_uri": "https://localhost:8080/"
    },
    "id": "Zp62VQstFny8",
    "outputId": "d1d180de-d440-4dc0-d49a-7491869a40c6"
   },
   "outputs": [
    {
     "name": "stdout",
     "output_type": "stream",
     "text": [
      "1/1 [==============================] - 0s 31ms/step\n",
      "my wife said me\n",
      "1/1 [==============================] - 0s 16ms/step\n",
      "my wife said me an\n",
      "1/1 [==============================] - 0s 16ms/step\n",
      "my wife said me an ultimatum\n",
      "1/1 [==============================] - 0s 16ms/step\n",
      "my wife said me an ultimatum her\n",
      "1/1 [==============================] - 0s 16ms/step\n",
      "my wife said me an ultimatum her or\n",
      "1/1 [==============================] - 0s 31ms/step\n",
      "my wife said me an ultimatum her or my\n",
      "1/1 [==============================] - 0s 16ms/step\n",
      "my wife said me an ultimatum her or my addiction\n",
      "1/1 [==============================] - 0s 21ms/step\n",
      "my wife said me an ultimatum her or my addiction to\n",
      "1/1 [==============================] - 0s 20ms/step\n",
      "my wife said me an ultimatum her or my addiction to sweets\n",
      "1/1 [==============================] - 0s 21ms/step\n",
      "my wife said me an ultimatum her or my addiction to sweets the\n",
      "1/1 [==============================] - 0s 25ms/step\n",
      "my wife said me an ultimatum her or my addiction to sweets the decision\n",
      "1/1 [==============================] - 0s 31ms/step\n",
      "my wife said me an ultimatum her or my addiction to sweets the decision was\n",
      "1/1 [==============================] - 0s 16ms/step\n",
      "my wife said me an ultimatum her or my addiction to sweets the decision was a\n",
      "1/1 [==============================] - 0s 18ms/step\n",
      "my wife said me an ultimatum her or my addiction to sweets the decision was a piece\n",
      "1/1 [==============================] - 0s 15ms/step\n",
      "my wife said me an ultimatum her or my addiction to sweets the decision was a piece of\n",
      "1/1 [==============================] - 0s 16ms/step\n",
      "my wife said me an ultimatum her or my addiction to sweets the decision was a piece of cake\n"
     ]
    }
   ],
   "source": [
    "import time\n",
    "text_p = 'my wife said'\n",
    "for i in range(16):\n",
    "  int_text = tokenizer.texts_to_sequences([text_p])[0]\n",
    "  pad_text = pad_sequences([int_text] , maxlen=max_length-1 , padding='pre')\n",
    "  pos = np.argmax(model.predict(pad_text))\n",
    "  for word,index in tokenizer.word_index.items():\n",
    "    if index == pos:\n",
    "      text_p = text_p + \" \" + word\n",
    "      print(text_p)\n",
    "      time.sleep(0.2)"
   ]
  },
  {
   "cell_type": "code",
   "execution_count": 28,
   "metadata": {
    "id": "Szkh_pasMUwa"
   },
   "outputs": [],
   "source": []
  },
  {
   "cell_type": "code",
   "execution_count": null,
   "metadata": {
    "colab": {
     "background_save": true
    },
    "id": "b6A1aMG2Nbt1"
   },
   "outputs": [],
   "source": []
  },
  {
   "cell_type": "code",
   "execution_count": null,
   "metadata": {
    "id": "w7BX1_g1OioJ"
   },
   "outputs": [],
   "source": []
  }
 ],
 "metadata": {
  "colab": {
   "provenance": []
  },
  "kernelspec": {
   "display_name": "Python 3 (ipykernel)",
   "language": "python",
   "name": "python3"
  },
  "language_info": {
   "codemirror_mode": {
    "name": "ipython",
    "version": 3
   },
   "file_extension": ".py",
   "mimetype": "text/x-python",
   "name": "python",
   "nbconvert_exporter": "python",
   "pygments_lexer": "ipython3",
   "version": "3.10.12"
  }
 },
 "nbformat": 4,
 "nbformat_minor": 1
}
