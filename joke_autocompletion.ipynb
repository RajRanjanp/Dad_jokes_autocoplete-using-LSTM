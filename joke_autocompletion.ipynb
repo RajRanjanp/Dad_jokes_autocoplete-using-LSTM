{
  "cells": [
    {
      "cell_type": "markdown",
      "metadata": {
        "id": "X3rmqiPTGFJi"
      },
      "source": [
        "Import Necessary Libraries"
      ]
    },
    {
      "cell_type": "code",
      "execution_count": 39,
      "metadata": {
        "id": "giS4ThvE9rcB"
      },
      "outputs": [],
      "source": [
        "from keras.preprocessing.text import Tokenizer\n",
        "import spacy\n",
        "import numpy as np\n",
        "import re\n",
        "from keras.preprocessing.sequence import pad_sequences\n",
        "from keras.utils import to_categorical\n",
        "from keras.models import Sequential\n",
        "from keras.layers import Dense , Embedding ,LSTM\n",
        "import matplotlib.pyplot as plt\n"
      ]
    },
    {
      "cell_type": "markdown",
      "metadata": {
        "id": "ECW0kpQWGMrU"
      },
      "source": [
        "Open file as list\n"
      ]
    },
    {
      "cell_type": "code",
      "execution_count": 8,
      "metadata": {
        "id": "GCDRa9PDiu0o"
      },
      "outputs": [],
      "source": [
        "with open('jokes.txt' , 'r' , errors='ignore' ) as file:\n",
        "  a = file.readlines()\n",
        "data = [item.strip() for item in a]"
      ]
    },
    {
      "cell_type": "markdown",
      "metadata": {
        "id": "3glRMu7xP8PC"
      },
      "source": [
        "Changing the capital letters to lowercase\n"
      ]
    },
    {
      "cell_type": "code",
      "execution_count": 9,
      "metadata": {
        "id": "dNhQqv_uogsA"
      },
      "outputs": [],
      "source": [
        "data_lower = []\n",
        "for dat in data:\n",
        "    data_lower.append(dat.lower())"
      ]
    },
    {
      "cell_type": "markdown",
      "metadata": {
        "id": "kMKZhYz_QZk0"
      },
      "source": [
        "Contractions Dictionary\n"
      ]
    },
    {
      "cell_type": "code",
      "execution_count": 10,
      "metadata": {
        "id": "HuMno7o0tyKH"
      },
      "outputs": [],
      "source": [
        "contractions_dict = {\n",
        "    \"i'm\": \"i am\",\n",
        "    \"i've\": \"i have\",\n",
        "    \"i'll\": \"i will\",\n",
        "    \"you're\": \"you are\",\n",
        "    \"you've\": \"you have\",\n",
        "    \"you'll\": \"you will\",\n",
        "    \"he's\": \"he is\",\n",
        "    \"he'll\": \"he will\",\n",
        "    \"she's\": \"she is\",\n",
        "    \"she'll\": \"she will\",\n",
        "    \"it's\": \"it is\",\n",
        "    \"we're\": \"we are\",\n",
        "    \"we've\": \"we have\",\n",
        "    \"we'll\": \"we will\",\n",
        "    \"they're\": \"they are\",\n",
        "    \"they've\": \"they have\",\n",
        "    \"they'll\": \"they will\",\n",
        "    \"can't\": \"cannot\",\n",
        "    \"won't\": \"will not\",\n",
        "    \"isn't\": \"is not\"\n",
        "}"
      ]
    },
    {
      "cell_type": "code",
      "execution_count": 11,
      "metadata": {
        "colab": {
          "base_uri": "https://localhost:8080/"
        },
        "id": "TpQdE7nUr2b1",
        "outputId": "74bf6e8f-5bca-40b9-fa52-ed0bc3e95a16"
      },
      "outputs": [
        {
          "output_type": "execute_result",
          "data": {
            "text/plain": [
              "['did you hear about the fire at the shoe factory? unfortunately, many soles were lost.',\n",
              " 'what do you call a pig who knows how to use a knife? a pork chop.',\n",
              " 'what kind of fish knows how to do an appendectomy? a sturgeon.',\n",
              " 'how do you hire a horse? put up a ladder.',\n",
              " 'why did the pony ask for a glass of water? because it was a little horse.',\n",
              " \"is there anything worse than when it's raining cats and dogs? yes, hailing taxis.\",\n",
              " 'how many apples can you grow on a tree? all of them.',\n",
              " \"my manager told me to have a good day. so i didn't go into work.\",\n",
              " 'what do kids play when they have nothing else to do? bored games.',\n",
              " \"what did the boy say to his fingers? i'm counting on you.\"]"
            ]
          },
          "metadata": {},
          "execution_count": 11
        }
      ],
      "source": [
        "data_lower[:5]"
      ]
    },
    {
      "cell_type": "markdown",
      "metadata": {
        "id": "jOXxaHZVGqOO"
      },
      "source": [
        "Tokenize the words and remove any punctuation marks and symbol"
      ]
    },
    {
      "cell_type": "code",
      "execution_count": 12,
      "metadata": {
        "id": "t5_I0hfTu1ls"
      },
      "outputs": [],
      "source": [
        "words = []\n",
        "data_purified = []\n",
        "for low in data_lower:\n",
        "  a = re.split('[,\\-!\\s.?\\n]+' , low)\n",
        "  container = []\n",
        "  data_purified.append(' '.join(a))\n",
        "  for any in a:\n",
        "    if any != '':\n",
        "      if any in contractions_dict:\n",
        "        any = contractions_dict[any]\n",
        "        val = any.split()\n",
        "        for i in val:\n",
        "          words.append(i)\n",
        "          container.append(i)\n",
        "      words.append(any)\n",
        "      container.append(any)\n",
        "  data_purified.append(' '.join(container))\n"
      ]
    },
    {
      "cell_type": "code",
      "execution_count": 13,
      "metadata": {
        "colab": {
          "base_uri": "https://localhost:8080/"
        },
        "id": "F4blN2euw1JM",
        "outputId": "749f75e9-44bd-41a7-e77f-e8b436095e03"
      },
      "outputs": [
        {
          "output_type": "execute_result",
          "data": {
            "text/plain": [
              "['did you hear about the fire at the shoe factory unfortunately many soles were lost ',\n",
              " 'did you hear about the fire at the shoe factory unfortunately many soles were lost',\n",
              " 'what do you call a pig who knows how to use a knife a pork chop ',\n",
              " 'what do you call a pig who knows how to use a knife a pork chop',\n",
              " 'what kind of fish knows how to do an appendectomy a sturgeon ',\n",
              " 'what kind of fish knows how to do an appendectomy a sturgeon',\n",
              " 'how do you hire a horse put up a ladder ',\n",
              " 'how do you hire a horse put up a ladder',\n",
              " 'why did the pony ask for a glass of water because it was a little horse ',\n",
              " 'why did the pony ask for a glass of water because it was a little horse']"
            ]
          },
          "metadata": {},
          "execution_count": 13
        }
      ],
      "source": [
        "data_purified[:10]"
      ]
    },
    {
      "cell_type": "code",
      "execution_count": 14,
      "metadata": {
        "id": "hgkAbCnKjyNm"
      },
      "outputs": [],
      "source": [
        "tokenizer = Tokenizer()"
      ]
    },
    {
      "cell_type": "code",
      "execution_count": 15,
      "metadata": {
        "id": "eBopkYEAnG5g"
      },
      "outputs": [],
      "source": [
        "tokenizer.fit_on_texts(words)"
      ]
    },
    {
      "cell_type": "code",
      "execution_count": 16,
      "metadata": {
        "id": "MZ_4lwBPnM2U"
      },
      "outputs": [],
      "source": [
        "x_seq = []\n",
        "for tex in data_purified:\n",
        "    encoded_tex= tokenizer.texts_to_sequences([tex])[0]\n",
        "    for i in range(1,len(encoded_tex)):\n",
        "      x_seq.append(encoded_tex[:i+1])"
      ]
    },
    {
      "cell_type": "code",
      "execution_count": 17,
      "metadata": {
        "id": "Atr0faDf7oCy"
      },
      "outputs": [],
      "source": [
        "max_length = max([len(x) for x in x_seq])"
      ]
    },
    {
      "cell_type": "code",
      "execution_count": 18,
      "metadata": {
        "id": "C678tvEpnTRl"
      },
      "outputs": [],
      "source": [
        "padded_x_seq = pad_sequences(x_seq , maxlen=max_length , padding='pre')"
      ]
    },
    {
      "cell_type": "code",
      "execution_count": 19,
      "metadata": {
        "colab": {
          "base_uri": "https://localhost:8080/"
        },
        "id": "W45Gb8GtBxl_",
        "outputId": "47db5055-fa67-4e5d-9a90-6952946ede5e"
      },
      "outputs": [
        {
          "output_type": "execute_result",
          "data": {
            "text/plain": [
              "array([[  0,   0,   0, ...,   0,  10,   5],\n",
              "       [  0,   0,   0, ...,  10,   5,  38],\n",
              "       [  0,   0,   0, ...,   5,  38,  28],\n",
              "       ...,\n",
              "       [  0,   0,   0, ..., 121,   3,  22],\n",
              "       [  0,   0,   0, ...,   3,  22, 370],\n",
              "       [  0,   0,   0, ...,  22, 370, 174]], dtype=int32)"
            ]
          },
          "metadata": {},
          "execution_count": 19
        }
      ],
      "source": [
        "padded_x_seq"
      ]
    },
    {
      "cell_type": "code",
      "execution_count": 20,
      "metadata": {
        "id": "Le6GlqQtnUom"
      },
      "outputs": [],
      "source": [
        "X_train = padded_x_seq[: , :-1]"
      ]
    },
    {
      "cell_type": "code",
      "execution_count": 21,
      "metadata": {
        "id": "k9Esz79eqSYV"
      },
      "outputs": [],
      "source": [
        "y_ = padded_x_seq[: , -1]"
      ]
    },
    {
      "cell_type": "markdown",
      "source": [
        "Total Number of Unique words\n"
      ],
      "metadata": {
        "id": "EfNIS5SUFbtl"
      }
    },
    {
      "cell_type": "code",
      "execution_count": 22,
      "metadata": {
        "id": "mepoqe_dDDEI"
      },
      "outputs": [],
      "source": [
        "length = len(tokenizer.word_index)"
      ]
    },
    {
      "cell_type": "markdown",
      "source": [
        "Encoding words"
      ],
      "metadata": {
        "id": "gkcGzK1DFm11"
      }
    },
    {
      "cell_type": "code",
      "execution_count": 23,
      "metadata": {
        "id": "M65EHeaguVmj"
      },
      "outputs": [],
      "source": [
        "y_train = to_categorical(y_ , num_classes=(length+1))"
      ]
    },
    {
      "cell_type": "markdown",
      "source": [
        "Building the model"
      ],
      "metadata": {
        "id": "_RgemOlSFt_f"
      }
    },
    {
      "cell_type": "code",
      "execution_count": 34,
      "metadata": {
        "id": "Enc-9Hh8ujjy"
      },
      "outputs": [],
      "source": [
        "model =Sequential()\n",
        "model.add(Embedding((length+1) , 100 , input_length =(max_length-1)))\n",
        "model.add(LSTM(90))\n",
        "model.add(Dense((length+1) , activation = 'softmax'))"
      ]
    },
    {
      "cell_type": "code",
      "execution_count": 35,
      "metadata": {
        "id": "zakutpk_ukbC"
      },
      "outputs": [],
      "source": [
        "model.compile(loss = 'categorical_crossentropy' , optimizer='adam' , metrics=['accuracy'])"
      ]
    },
    {
      "cell_type": "code",
      "execution_count": 36,
      "metadata": {
        "colab": {
          "base_uri": "https://localhost:8080/"
        },
        "id": "87nHa8F7ve_T",
        "outputId": "3d7ccfe7-0eb2-4f4b-aacd-aa0679b8888b"
      },
      "outputs": [
        {
          "output_type": "stream",
          "name": "stdout",
          "text": [
            "Model: \"sequential_1\"\n",
            "_________________________________________________________________\n",
            " Layer (type)                Output Shape              Param #   \n",
            "=================================================================\n",
            " embedding_1 (Embedding)     (None, 50, 100)           215100    \n",
            "                                                                 \n",
            " lstm_1 (LSTM)               (None, 90)                68760     \n",
            "                                                                 \n",
            " dense_1 (Dense)             (None, 2151)              195741    \n",
            "                                                                 \n",
            "=================================================================\n",
            "Total params: 479601 (1.83 MB)\n",
            "Trainable params: 479601 (1.83 MB)\n",
            "Non-trainable params: 0 (0.00 Byte)\n",
            "_________________________________________________________________\n"
          ]
        }
      ],
      "source": [
        "model.summary()"
      ]
    },
    {
      "cell_type": "markdown",
      "source": [
        "Training the model"
      ],
      "metadata": {
        "id": "yqwzU6V3Fyk9"
      }
    },
    {
      "cell_type": "code",
      "execution_count": 37,
      "metadata": {
        "colab": {
          "base_uri": "https://localhost:8080/"
        },
        "id": "-E-XiPWNFT1B",
        "outputId": "317e2de5-91f4-40e8-ec43-f572f6c36861"
      },
      "outputs": [
        {
          "output_type": "stream",
          "name": "stdout",
          "text": [
            "Epoch 1/50\n",
            "504/504 [==============================] - 26s 47ms/step - loss: 6.4327 - accuracy: 0.0493\n",
            "Epoch 2/50\n",
            "504/504 [==============================] - 24s 48ms/step - loss: 5.8831 - accuracy: 0.0693\n",
            "Epoch 3/50\n",
            "504/504 [==============================] - 22s 44ms/step - loss: 5.4961 - accuracy: 0.1051\n",
            "Epoch 4/50\n",
            "504/504 [==============================] - 23s 46ms/step - loss: 5.1059 - accuracy: 0.1390\n",
            "Epoch 5/50\n",
            "504/504 [==============================] - 24s 47ms/step - loss: 4.7241 - accuracy: 0.1774\n",
            "Epoch 6/50\n",
            "504/504 [==============================] - 23s 46ms/step - loss: 4.3603 - accuracy: 0.2096\n",
            "Epoch 7/50\n",
            "504/504 [==============================] - 23s 46ms/step - loss: 4.0149 - accuracy: 0.2461\n",
            "Epoch 8/50\n",
            "504/504 [==============================] - 22s 44ms/step - loss: 3.6914 - accuracy: 0.2796\n",
            "Epoch 9/50\n",
            "504/504 [==============================] - 23s 45ms/step - loss: 3.3856 - accuracy: 0.3216\n",
            "Epoch 10/50\n",
            "504/504 [==============================] - 23s 46ms/step - loss: 3.0895 - accuracy: 0.3677\n",
            "Epoch 11/50\n",
            "504/504 [==============================] - 23s 46ms/step - loss: 2.8063 - accuracy: 0.4194\n",
            "Epoch 12/50\n",
            "504/504 [==============================] - 23s 46ms/step - loss: 2.5393 - accuracy: 0.4809\n",
            "Epoch 13/50\n",
            "504/504 [==============================] - 22s 43ms/step - loss: 2.2899 - accuracy: 0.5351\n",
            "Epoch 14/50\n",
            "504/504 [==============================] - 23s 46ms/step - loss: 2.0601 - accuracy: 0.5840\n",
            "Epoch 15/50\n",
            "504/504 [==============================] - 23s 46ms/step - loss: 1.8550 - accuracy: 0.6259\n",
            "Epoch 16/50\n",
            "504/504 [==============================] - 23s 46ms/step - loss: 1.6702 - accuracy: 0.6626\n",
            "Epoch 17/50\n",
            "504/504 [==============================] - 23s 45ms/step - loss: 1.5096 - accuracy: 0.6979\n",
            "Epoch 18/50\n",
            "504/504 [==============================] - 22s 44ms/step - loss: 1.3713 - accuracy: 0.7297\n",
            "Epoch 19/50\n",
            "504/504 [==============================] - 23s 46ms/step - loss: 1.2492 - accuracy: 0.7544\n",
            "Epoch 20/50\n",
            "504/504 [==============================] - 23s 46ms/step - loss: 1.1413 - accuracy: 0.7796\n",
            "Epoch 21/50\n",
            "504/504 [==============================] - 23s 46ms/step - loss: 1.0450 - accuracy: 0.7947\n",
            "Epoch 22/50\n",
            "504/504 [==============================] - 23s 46ms/step - loss: 0.9593 - accuracy: 0.8145\n",
            "Epoch 23/50\n",
            "504/504 [==============================] - 22s 44ms/step - loss: 0.8843 - accuracy: 0.8291\n",
            "Epoch 24/50\n",
            "504/504 [==============================] - 23s 46ms/step - loss: 0.8142 - accuracy: 0.8432\n",
            "Epoch 25/50\n",
            "504/504 [==============================] - 23s 46ms/step - loss: 0.7559 - accuracy: 0.8521\n",
            "Epoch 26/50\n",
            "504/504 [==============================] - 23s 46ms/step - loss: 0.7002 - accuracy: 0.8633\n",
            "Epoch 27/50\n",
            "504/504 [==============================] - 23s 46ms/step - loss: 0.6505 - accuracy: 0.8723\n",
            "Epoch 28/50\n",
            "504/504 [==============================] - 22s 44ms/step - loss: 0.6071 - accuracy: 0.8797\n",
            "Epoch 29/50\n",
            "504/504 [==============================] - 23s 46ms/step - loss: 0.5691 - accuracy: 0.8863\n",
            "Epoch 30/50\n",
            "504/504 [==============================] - 23s 46ms/step - loss: 0.5360 - accuracy: 0.8898\n",
            "Epoch 31/50\n",
            "504/504 [==============================] - 23s 46ms/step - loss: 0.5028 - accuracy: 0.8938\n",
            "Epoch 32/50\n",
            "504/504 [==============================] - 23s 46ms/step - loss: 0.4767 - accuracy: 0.8993\n",
            "Epoch 33/50\n",
            "504/504 [==============================] - 22s 44ms/step - loss: 0.4516 - accuracy: 0.9001\n",
            "Epoch 34/50\n",
            "504/504 [==============================] - 32s 64ms/step - loss: 0.4301 - accuracy: 0.9027\n",
            "Epoch 35/50\n",
            "504/504 [==============================] - 29s 57ms/step - loss: 0.4108 - accuracy: 0.9044\n",
            "Epoch 36/50\n",
            "504/504 [==============================] - 28s 56ms/step - loss: 0.3941 - accuracy: 0.9053\n",
            "Epoch 37/50\n",
            "504/504 [==============================] - 27s 54ms/step - loss: 0.3800 - accuracy: 0.9078\n",
            "Epoch 38/50\n",
            "504/504 [==============================] - 24s 48ms/step - loss: 0.3668 - accuracy: 0.9084\n",
            "Epoch 39/50\n",
            "504/504 [==============================] - 24s 48ms/step - loss: 0.3565 - accuracy: 0.9091\n",
            "Epoch 40/50\n",
            "504/504 [==============================] - 23s 46ms/step - loss: 0.3464 - accuracy: 0.9088\n",
            "Epoch 41/50\n",
            "504/504 [==============================] - 24s 47ms/step - loss: 0.3386 - accuracy: 0.9099\n",
            "Epoch 42/50\n",
            "504/504 [==============================] - 23s 46ms/step - loss: 0.3294 - accuracy: 0.9092\n",
            "Epoch 43/50\n",
            "504/504 [==============================] - 23s 45ms/step - loss: 0.3219 - accuracy: 0.9120\n",
            "Epoch 44/50\n",
            "504/504 [==============================] - 23s 46ms/step - loss: 0.3163 - accuracy: 0.9112\n",
            "Epoch 45/50\n",
            "504/504 [==============================] - 23s 46ms/step - loss: 0.3123 - accuracy: 0.9120\n",
            "Epoch 46/50\n",
            "504/504 [==============================] - 23s 46ms/step - loss: 0.3065 - accuracy: 0.9114\n",
            "Epoch 47/50\n",
            "504/504 [==============================] - 23s 46ms/step - loss: 0.3027 - accuracy: 0.9099\n",
            "Epoch 48/50\n",
            "504/504 [==============================] - 22s 44ms/step - loss: 0.3009 - accuracy: 0.9104\n",
            "Epoch 49/50\n",
            "504/504 [==============================] - 23s 46ms/step - loss: 0.2960 - accuracy: 0.9107\n",
            "Epoch 50/50\n",
            "504/504 [==============================] - 33s 66ms/step - loss: 0.2922 - accuracy: 0.9110\n"
          ]
        }
      ],
      "source": [
        "history =model.fit(X_train , y_train , epochs= 50)"
      ]
    },
    {
      "cell_type": "code",
      "source": [
        "plt.plot(history.history['loss'] ,label='Loss' )\n",
        "plt.plot(history.history['accuracy'] , label='Accuracy')\n",
        "plt.xlabel('Epochs')\n",
        "plt.ylabel('Value')"
      ],
      "metadata": {
        "colab": {
          "base_uri": "https://localhost:8080/",
          "height": 467
        },
        "id": "T14a3bXIG9Rc",
        "outputId": "863a6a70-3d07-4be4-9462-6eac64edc7c3"
      },
      "execution_count": 41,
      "outputs": [
        {
          "output_type": "execute_result",
          "data": {
            "text/plain": [
              "Text(0, 0.5, 'Value')"
            ]
          },
          "metadata": {},
          "execution_count": 41
        },
        {
          "output_type": "display_data",
          "data": {
            "text/plain": [
              "<Figure size 640x480 with 1 Axes>"
            ],
            "image/png": "[encoded data removed]"
          },
          "metadata": {}
        }
      ]
    },
    {
      "cell_type": "code",
      "execution_count": 45,
      "metadata": {
        "colab": {
          "base_uri": "https://localhost:8080/"
        },
        "id": "Zp62VQstFny8",
        "outputId": "d1d180de-d440-4dc0-d49a-7491869a40c6"
      },
      "outputs": [
        {
          "output_type": "stream",
          "name": "stdout",
          "text": [
            "1/1 [==============================] - 0s 38ms/step\n",
            "what did she said \n",
            " i\n",
            "1/1 [==============================] - 0s 31ms/step\n",
            "what did she said \n",
            " i wont\n",
            "1/1 [==============================] - 0s 21ms/step\n",
            "what did she said \n",
            " i wont be\n",
            "1/1 [==============================] - 0s 24ms/step\n",
            "what did she said \n",
            " i wont be able\n",
            "1/1 [==============================] - 0s 23ms/step\n",
            "what did she said \n",
            " i wont be able to\n",
            "1/1 [==============================] - 0s 21ms/step\n",
            "what did she said \n",
            " i wont be able to make\n",
            "1/1 [==============================] - 0s 22ms/step\n",
            "what did she said \n",
            " i wont be able to make it\n"
          ]
        }
      ],
      "source": [
        "import time\n",
        "text_p = 'what did she said \\n'\n",
        "for i in range(7):\n",
        "  int_text = tokenizer.texts_to_sequences([text_p])[0]\n",
        "  pad_text = pad_sequences([int_text] , maxlen=max_length-1 , padding='pre')\n",
        "  pos = np.argmax(model.predict(pad_text))\n",
        "  for word,index in tokenizer.word_index.items():\n",
        "    if index == pos:\n",
        "      text_p = text_p + \" \" + word\n",
        "      print(text_p)\n",
        "      time.sleep(2)"
      ]
    },
    {
      "cell_type": "code",
      "execution_count": 28,
      "metadata": {
        "id": "Szkh_pasMUwa"
      },
      "outputs": [],
      "source": []
    },
    {
      "cell_type": "code",
      "execution_count": null,
      "metadata": {
        "colab": {
          "background_save": true
        },
        "id": "b6A1aMG2Nbt1"
      },
      "outputs": [],
      "source": []
    },
    {
      "cell_type": "code",
      "execution_count": null,
      "metadata": {
        "id": "w7BX1_g1OioJ"
      },
      "outputs": [],
      "source": []
    }
  ],
  "metadata": {
    "colab": {
      "provenance": []
    },
    "kernelspec": {
      "display_name": "Python 3",
      "name": "python3"
    },
    "language_info": {
      "name": "python"
    }
  },
  "nbformat": 4,
  "nbformat_minor": 0
}